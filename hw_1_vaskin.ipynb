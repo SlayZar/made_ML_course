{
 "cells": [
  {
   "cell_type": "markdown",
   "metadata": {},
   "source": [
    "***Задание 1***\n",
    "\n",
    "Произошло убийство. На месте убийства найдена кровь, которая явно (будем считать, что с вероятностью 1) принадлежит настоящему убийце. Кровь принадлежит редкой группе, которая присутствует всего лишь у 1% населения. И так получилось, что у подсудимого как раз эта редкая группа крови!\n",
    "Первым выходит прокурор и говорит: “Шанс, что у подсудимого была бы именно такая группа крови, если бы он был невиновен -- всего 1%; значит, с вероятностью 99% он виновен, предлагаю осудить”. В чём не прав прокурор? Укажите, какие вероятности он оценил, а какие должен был оценить."
   ]
  },
  {
   "cell_type": "markdown",
   "metadata": {},
   "source": [
    "***Решение***"
   ]
  },
  {
   "cell_type": "markdown",
   "metadata": {},
   "source": [
    "Дано:\n",
    "\n",
    "A - подсудимый имеет редкую группу крови\n",
    "\n",
    "B - подсудимый невиновен\n",
    "\n",
    "$P(A) = 0.01$\n",
    "\n",
    "$P(A|\\hat{B})=1$\n",
    "\n",
    "Вероятность редкой группы при условии невиновности равна априорной вероятности иметь редкую группу, так как среди невиновных шанс иметь редкую группу тоже будет 1%.\n",
    "\n",
    "Поэтому:\n",
    "\n",
    "$P(A|B) = \\frac{P(B|A)P(A)}{P(B)} = 0.01$ \n",
    "\n",
    "$P(B) = \\frac{P(B|A) * 0.01}{0.01} = P(B|A)$ - вероятность невиновности равна вероятности невиновности при условии наличия редкой группы крови\n",
    "\n",
    "Из этого прокурор сделал вывод, что $P(\\hat{B}) = 1 - P(B) =  0.99$, что неверно"
   ]
  },
  {
   "cell_type": "markdown",
   "metadata": {},
   "source": [
    "===============================\n",
    "\n",
    "### Нужно было считать так:\n",
    "\n",
    "$P(\\hat{B}|A) = \\frac{P(A|\\hat{B})P(\\hat{B})}{P(A)} = \\frac{P(\\hat{B})}{0.01} = 100 P(\\hat{B})$\n",
    "\n",
    "$\\frac{P(\\hat{B}|A)}{P(\\hat{B})} = 100$\n",
    "\n",
    "Вывод, который должен был сделать прокурор: \n",
    "* Вероятность вины подсудимого возрасла в 100 раз после опеределния его группы крови. \n",
    "Таким образом, вероятность вины в 100 раз больше по сравнению со случайно выбранным человеком, но чтобы судить о том, насколько велика вероятность вины подсудимого недостаточно данных."
   ]
  },
  {
   "cell_type": "markdown",
   "metadata": {},
   "source": [
    "***Задание 2***\n",
    "\n",
    "Затем выходит адвокат, объясняет ошибки прокурора, а сам говорит следующее: “В городе живёт миллион человек. Это значит, что примерно у 10000 из них такая группа крови. Значит, всё, что говорит нам эта кровь -- это то, что подсудимый совершил убийство с вероятностью 0.01%. Получается, что это свидетельство не просто не является строгим доказательством, а и вовсе даёт нам ничтожно малую вероятность того, что мой подзащитный виновен, так что предлагаю исключить его из материалов дела”. В чём не прав адвокат? Укажите, какие вероятности он оценил, а какие должен был оценить."
   ]
  },
  {
   "cell_type": "markdown",
   "metadata": {},
   "source": [
    "***Решение:***\n",
    "\n",
    "Прокурор оценил вероятность, что случайно выбранный человек с редкой группой кровью совершил это убийство.\n",
    "\n",
    "$P(\\hat{B}|A) = 0.01$, говорит он.\n",
    "\n",
    "В целом он прав, однако, как было показано выше, данное свидетельство в 100 раз увеличило вероятность вины подсудимого и исключать его из материалов дела нельзя, однако при отсутствии других улик вероятность вины подсудимого (только по улики крови) составляет $0.01$ (вероятность, что случайно выбранный человек из города с редкой группой кровью совершил убийство)."
   ]
  },
  {
   "cell_type": "markdown",
   "metadata": {},
   "source": [
    "***Задание 3***\n",
    "\n",
    "Вернёмся к тесту на коронавирус из лекции. Напомню, что коронавирусом по нашему предположению болеет 1% населения, а тест имеет вероятность ошибки 5% в обе стороны. Мы видели, что в результате человек с положительным тестом имеет апостериорную вероятность оказаться больным всего лишь около 16%.\n",
    "\n",
    "Врачи решили, что терпеть это никак нельзя; они готовы провести срочное исследование и улучшить качество теста на коронавирус. Но сил и денег хватит только для того, чтобы сократить один тип ошибок, т.е. уменьшить или только число false positives (когда тест выдаёт позитивный результат у здорового человека), или только число false negatives (когда тест выдаёт отрицательный результат у больного).\n",
    "\n",
    "Помогите медикам: постройте зависимости апостериорных вероятностей болезни после положительного и отрицательного теста от обоих видов ошибок (например, в виде графиков), сделайте выводы и дайте рекомендации врачам -- на чём лучше сосредоточиться?\n"
   ]
  },
  {
   "cell_type": "code",
   "execution_count": 18,
   "metadata": {},
   "outputs": [],
   "source": [
    "import numpy as np\n",
    "import matplotlib.pyplot as plt\n",
    "%matplotlib inline"
   ]
  },
  {
   "cell_type": "markdown",
   "metadata": {},
   "source": [
    "***Решение:***\n",
    "\n",
    "$A$ - болен\n",
    "\n",
    "$P(A) = 0.01$ - вероятность болезни\n",
    "\n",
    "$B$ - тест положителен\n",
    "\n",
    "$P(B|A) = 0.95$\n",
    "\n",
    "$P(B|\\hat{A}) = 0.05$\n",
    "\n",
    "\n",
    "$P(A|B) = \\frac{P(B|A)P(A)}{P(B)} = \\frac{P(B|A)P(A)}{P(B|A)P(A) + P(B|\\hat{A})P(\\hat{A})} = \\frac{0.95*0.01}{0.95*0.01+0.05*0.99} = \\frac{0.0095}{0.059} \\approx16.1\\% $ "
   ]
  },
  {
   "cell_type": "markdown",
   "metadata": {},
   "source": [
    "Рассмотрим крайний случаи:\n",
    "### I случай"
   ]
  },
  {
   "cell_type": "markdown",
   "metadata": {},
   "source": [
    "$A$ - болен\n",
    "\n",
    "$P(A) = 0.01$ - вероятность болезни\n",
    "\n",
    "$B$ - тест положителен\n",
    "\n",
    "$P(B|A) = 1$\n",
    "\n",
    "$P(B|\\hat{A}) = 0.05$\n",
    "\n",
    "\n",
    "$P(A|B) = \\frac{P(B|A)P(A)}{P(B)} = \\frac{P(B|A)P(A)}{P(B|A)P(A) + P(B|\\hat{A})P(\\hat{A})} = \\frac{1*0.01}{1*0.01+0.05*0.99} = \\frac{0.01}{0.0595} \\approx 16.8\\% $ \n",
    "\n",
    "\n",
    "$P(A|\\hat{B}) = \\frac{P(\\hat{B}|A)P(A)}{P(\\hat{B})} = \\frac{(1-P(B|A))P(A)}{1 - (P(B|A)P(A) + P(B|\\hat{A})P(\\hat{A}))} = \\frac{0*0.01}{1-0.595} = 0 $ "
   ]
  },
  {
   "cell_type": "code",
   "execution_count": 19,
   "metadata": {},
   "outputs": [],
   "source": [
    "def true_pos(p_A, pB_A, pB_ne_A):\n",
    "    p = (pB_A * p_A) / (pB_A * p_A + pB_ne_A * (1-p_A))\n",
    "    return p\n",
    "\n",
    "def false_neg(p_A, pB_A, pB_ne_A):\n",
    "    p = ((1-pB_A) * p_A) / (1-(pB_A * p_A + pB_ne_A * (1-p_A)))\n",
    "    return p\n",
    "\n",
    "def false_pos(p_A, pB_A, pB_ne_A):\n",
    "    p = 1 - true_pos(p_A, pB_A, pB_ne_A)\n",
    "    return p\n",
    "\n",
    "def true_neg(p_A, pB_A, pB_ne_A):\n",
    "    p = 1 - false_neg(p_A, pB_A, pB_ne_A)\n",
    "    return p\n",
    "\n",
    "p_A = 0.01\n",
    "pB_A = 1\n",
    "pB_ne_A = 0.05\n",
    "\n",
    "false_pos_case1 = []\n",
    "false_neg_case1 = []\n",
    "for pB_A in np.arange(1,0.95,-0.001):\n",
    "    false_pos_case1.append(false_pos(p_A, pB_A, pB_ne_A))\n",
    "    false_neg_case1.append(false_neg(p_A, pB_A, pB_ne_A))"
   ]
  },
  {
   "cell_type": "markdown",
   "metadata": {},
   "source": [
    "### II случай"
   ]
  },
  {
   "cell_type": "markdown",
   "metadata": {},
   "source": [
    "$A$ - болен\n",
    "\n",
    "$P(A) = 0.01$ - вероятность болезни\n",
    "\n",
    "$B$ - тест положителен\n",
    "\n",
    "$P(B|A) = 0.95$\n",
    "\n",
    "$P(B|\\hat{A}) = 0$"
   ]
  },
  {
   "cell_type": "code",
   "execution_count": 62,
   "metadata": {},
   "outputs": [],
   "source": [
    "false_pos_case2 = []\n",
    "false_neg_case2 = []\n",
    "\n",
    "pB_A = 0.95\n",
    "pB_ne_A = 0\n",
    "\n",
    "for pB_ne_A in np.arange(1, 0.95,-0.001):\n",
    "    false_pos_case2.append(false_pos(p_A, pB_A, 1-pB_ne_A))\n",
    "    false_neg_case2.append(false_neg(p_A, pB_A, 1-pB_ne_A))"
   ]
  },
  {
   "cell_type": "code",
   "execution_count": 63,
   "metadata": {},
   "outputs": [
    {
     "data": {
      "text/plain": [
       "<matplotlib.legend.Legend at 0x24a5e3b5eb8>"
      ]
     },
     "execution_count": 63,
     "metadata": {},
     "output_type": "execute_result"
    },
    {
     "data": {
      "image/png": "[encoded data removed]",
      "text/plain": [
       "<Figure size 864x432 with 2 Axes>"
      ]
     },
     "metadata": {
      "needs_background": "light"
     },
     "output_type": "display_data"
    }
   ],
   "source": [
    "fig, axs = plt.subplots(figsize=(12,6),nrows=1, ncols=2, sharex=True)\n",
    "\n",
    "fig.suptitle('Comparing FP, FN changing')\n",
    "axs[0].set_title('False negative')\n",
    "axs[0].plot(np.arange(1,0.95,-0.001), false_neg_case1, label = 'Increasing TP')\n",
    "axs[0].plot(np.arange(1,0.95,-0.001), false_neg_case2, label = 'Decreasing FN')\n",
    "axs[0].grid()\n",
    "axs[0].legend()\n",
    "\n",
    "axs[1].set_title('False positive')\n",
    "axs[1].plot(np.arange(1,0.95,-0.001), false_pos_case1, label = 'Increasing TP')\n",
    "axs[1].plot(np.arange(1,0.95,-0.001), false_pos_case2, label = 'Decreasing FN')\n",
    "axs[1].grid()\n",
    "axs[1].legend()"
   ]
  },
  {
   "cell_type": "markdown",
   "metadata": {},
   "source": [
    "* Increasing TP - увеличиваем вероятность выявления болезни (от 0.95 до 1, в крайнем случае для всех больных тест положителен)\n",
    "\n",
    "** False negative падает от $0.00053$ до 0\n",
    "\n",
    "** False positive падает от $0.839$ до $0.832$\n",
    "\n",
    "Изменения выглядят незначительными.\n",
    "\n",
    "* Decreasing FN - уменьшаем вероятность положительного теста для здоровых (от 0.05 до 0, в крайнем случае все здоровые имеют отрицательный тест)\n",
    "\n",
    "\n",
    "** False negative падает от $0.00053$ до $0.005$\n",
    "\n",
    "** False positive падает от $0.839$ до $0$\n",
    "\n",
    "Удалось до нуля уменьшить ложно положительные срабатывания при небольшом падении ложно отрицательных"
   ]
  },
  {
   "cell_type": "markdown",
   "metadata": {},
   "source": [
    "Таким образом, предпочтительным выглядит вариант уменьшения вероятности положительного теста для здоровых до нуля, вероятность ложноположительного срабатывания при этом равна 0.99949"
   ]
  },
  {
   "cell_type": "code",
   "execution_count": 20,
   "metadata": {},
   "outputs": [],
   "source": []
  },
  {
   "cell_type": "code",
   "execution_count": null,
   "metadata": {},
   "outputs": [],
   "source": []
  },
  {
   "cell_type": "code",
   "execution_count": null,
   "metadata": {},
   "outputs": [],
   "source": []
  },
  {
   "cell_type": "code",
   "execution_count": null,
   "metadata": {},
   "outputs": [],
   "source": []
  },
  {
   "cell_type": "code",
   "execution_count": null,
   "metadata": {},
   "outputs": [],
   "source": []
  }
 ],
 "metadata": {
  "kernelspec": {
   "display_name": "Python 3",
   "language": "python",
   "name": "python3"
  },
  "language_info": {
   "codemirror_mode": {
    "name": "ipython",
    "version": 3
   },
   "file_extension": ".py",
   "mimetype": "text/x-python",
   "name": "python",
   "nbconvert_exporter": "python",
   "pygments_lexer": "ipython3",
   "version": "3.6.7"
  }
 },
 "nbformat": 4,
 "nbformat_minor": 2
}
